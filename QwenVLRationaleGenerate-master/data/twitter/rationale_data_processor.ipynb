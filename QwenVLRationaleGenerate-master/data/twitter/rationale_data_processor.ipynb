{
 "cells": [
  {
   "metadata": {
    "collapsed": true,
    "ExecuteTime": {
     "end_time": "2024-11-09T02:54:30.612033Z",
     "start_time": "2024-11-09T02:54:30.421835Z"
    }
   },
   "cell_type": "code",
   "source": [
    "import os\n",
    "import pandas as pd\n",
    "\n",
    "current_path = os.getcwd()\n",
    "print(current_path)\n",
    "os.chdir('/home/lyq/DataSet/FakeNews/twitter_dataset')\n",
    "df = pd.read_csv('twitter_llm_rationales.csv')\n",
    "rationale_names = {'td','cs'}\n",
    "df[:10]"
   ],
   "id": "initial_id",
   "outputs": [
    {
     "name": "stdout",
     "output_type": "stream",
     "text": [
      "/home/lyq/PycharmProjects/PycharmProjects\n"
     ]
    },
    {
     "data": {
      "text/plain": [
       "                                             content  label        image_id  \\\n",
       "0  PIC: Comparison of #Boston suspect Sunil Tripa...      0  boston_fake_23   \n",
       "1  I'm not completely convinced that it's this Su...      0  boston_fake_34   \n",
       "2  4chan and the bombing. just throwing it out th...      0  boston_fake_15   \n",
       "3  4chan thinks they found pictures of the bomber...      0  boston_fake_08   \n",
       "4  Ola ke ase, investigando las bombas de Boston ...      0  boston_fake_35   \n",
       "5  @DLoesch have you seen this? Bomber #2  looks ...      0  boston_fake_13   \n",
       "6  @YourAnonNews its not that guy, you can see hi...      0  boston_fake_16   \n",
       "7  Hilarious if 4chan solves this bombing case. T...      0  boston_fake_26   \n",
       "8                      http://t.co/pS4KetWGaW #4chan      0  boston_fake_01   \n",
       "9  \\\"They say\\\" this is a #pic of a man lurking o...      0  boston_fake_09   \n",
       "\n",
       "            source_id  split  \\\n",
       "0  325145334739267584    NaN   \n",
       "1  325152091423248385    NaN   \n",
       "2  324315545572896768    NaN   \n",
       "3  324581777614180352    NaN   \n",
       "4  324665423956176896    NaN   \n",
       "5  325099014355820544    NaN   \n",
       "6  324558285225209857    NaN   \n",
       "7  324435205433724929    NaN   \n",
       "8  324545148908363777    NaN   \n",
       "9  324267996044460035    NaN   \n",
       "\n",
       "                                        td_rationale  td_pred  td_acc  \\\n",
       "0   - The message includes a link to an image or ...        0       1   \n",
       "1   The message is a personal opinion or observat...        1       0   \n",
       "2   1. Source: The source of the message is 4chan...        0       1   \n",
       "3   The message contains a link to a source (4cha...        0       1   \n",
       "4   - The message contains a hyperlink to a websi...        0       1   \n",
       "5   - The message contains a link to an image of ...        0       1   \n",
       "6   - The message is a Twitter post and does not ...        0       1   \n",
       "7   - The message is a joke about a bombing case,...        0       1   \n",
       "8   1. The message contains a link to a website c...        0       1   \n",
       "9   - The message includes a hashtag and a URL, w...        0       1   \n",
       "\n",
       "                                        cs_rationale  cs_pred  cs_acc  \n",
       "0   Plausibility: It is plausible that a comparis...        1       0  \n",
       "1   Plausibility: The message is a tweet with a l...        0       1  \n",
       "2   Plausibility: The message contains links to t...        0       1  \n",
       "3   Plausibility: The message contains a link to ...        0       1  \n",
       "4   The message is a hashtag and a link to a webs...        0       1  \n",
       "5   Plausibility: It is plausible that a missing ...        1       0  \n",
       "6   Plausibility: It is not believable that the i...        0       1  \n",
       "7   Plausibility: The message is a link to a 4cha...        0       1  \n",
       "8   Plausibility: The message is a link to a webs...        0       1  \n",
       "9   Plausibility: The idea of a man lurking on a ...        0       1  "
      ],
      "text/html": [
       "<div>\n",
       "<style scoped>\n",
       "    .dataframe tbody tr th:only-of-type {\n",
       "        vertical-align: middle;\n",
       "    }\n",
       "\n",
       "    .dataframe tbody tr th {\n",
       "        vertical-align: top;\n",
       "    }\n",
       "\n",
       "    .dataframe thead th {\n",
       "        text-align: right;\n",
       "    }\n",
       "</style>\n",
       "<table border=\"1\" class=\"dataframe\">\n",
       "  <thead>\n",
       "    <tr style=\"text-align: right;\">\n",
       "      <th></th>\n",
       "      <th>content</th>\n",
       "      <th>label</th>\n",
       "      <th>image_id</th>\n",
       "      <th>source_id</th>\n",
       "      <th>split</th>\n",
       "      <th>td_rationale</th>\n",
       "      <th>td_pred</th>\n",
       "      <th>td_acc</th>\n",
       "      <th>cs_rationale</th>\n",
       "      <th>cs_pred</th>\n",
       "      <th>cs_acc</th>\n",
       "    </tr>\n",
       "  </thead>\n",
       "  <tbody>\n",
       "    <tr>\n",
       "      <th>0</th>\n",
       "      <td>PIC: Comparison of #Boston suspect Sunil Tripa...</td>\n",
       "      <td>0</td>\n",
       "      <td>boston_fake_23</td>\n",
       "      <td>325145334739267584</td>\n",
       "      <td>NaN</td>\n",
       "      <td>- The message includes a link to an image or ...</td>\n",
       "      <td>0</td>\n",
       "      <td>1</td>\n",
       "      <td>Plausibility: It is plausible that a comparis...</td>\n",
       "      <td>1</td>\n",
       "      <td>0</td>\n",
       "    </tr>\n",
       "    <tr>\n",
       "      <th>1</th>\n",
       "      <td>I'm not completely convinced that it's this Su...</td>\n",
       "      <td>0</td>\n",
       "      <td>boston_fake_34</td>\n",
       "      <td>325152091423248385</td>\n",
       "      <td>NaN</td>\n",
       "      <td>The message is a personal opinion or observat...</td>\n",
       "      <td>1</td>\n",
       "      <td>0</td>\n",
       "      <td>Plausibility: The message is a tweet with a l...</td>\n",
       "      <td>0</td>\n",
       "      <td>1</td>\n",
       "    </tr>\n",
       "    <tr>\n",
       "      <th>2</th>\n",
       "      <td>4chan and the bombing. just throwing it out th...</td>\n",
       "      <td>0</td>\n",
       "      <td>boston_fake_15</td>\n",
       "      <td>324315545572896768</td>\n",
       "      <td>NaN</td>\n",
       "      <td>1. Source: The source of the message is 4chan...</td>\n",
       "      <td>0</td>\n",
       "      <td>1</td>\n",
       "      <td>Plausibility: The message contains links to t...</td>\n",
       "      <td>0</td>\n",
       "      <td>1</td>\n",
       "    </tr>\n",
       "    <tr>\n",
       "      <th>3</th>\n",
       "      <td>4chan thinks they found pictures of the bomber...</td>\n",
       "      <td>0</td>\n",
       "      <td>boston_fake_08</td>\n",
       "      <td>324581777614180352</td>\n",
       "      <td>NaN</td>\n",
       "      <td>The message contains a link to a source (4cha...</td>\n",
       "      <td>0</td>\n",
       "      <td>1</td>\n",
       "      <td>Plausibility: The message contains a link to ...</td>\n",
       "      <td>0</td>\n",
       "      <td>1</td>\n",
       "    </tr>\n",
       "    <tr>\n",
       "      <th>4</th>\n",
       "      <td>Ola ke ase, investigando las bombas de Boston ...</td>\n",
       "      <td>0</td>\n",
       "      <td>boston_fake_35</td>\n",
       "      <td>324665423956176896</td>\n",
       "      <td>NaN</td>\n",
       "      <td>- The message contains a hyperlink to a websi...</td>\n",
       "      <td>0</td>\n",
       "      <td>1</td>\n",
       "      <td>The message is a hashtag and a link to a webs...</td>\n",
       "      <td>0</td>\n",
       "      <td>1</td>\n",
       "    </tr>\n",
       "    <tr>\n",
       "      <th>5</th>\n",
       "      <td>@DLoesch have you seen this? Bomber #2  looks ...</td>\n",
       "      <td>0</td>\n",
       "      <td>boston_fake_13</td>\n",
       "      <td>325099014355820544</td>\n",
       "      <td>NaN</td>\n",
       "      <td>- The message contains a link to an image of ...</td>\n",
       "      <td>0</td>\n",
       "      <td>1</td>\n",
       "      <td>Plausibility: It is plausible that a missing ...</td>\n",
       "      <td>1</td>\n",
       "      <td>0</td>\n",
       "    </tr>\n",
       "    <tr>\n",
       "      <th>6</th>\n",
       "      <td>@YourAnonNews its not that guy, you can see hi...</td>\n",
       "      <td>0</td>\n",
       "      <td>boston_fake_16</td>\n",
       "      <td>324558285225209857</td>\n",
       "      <td>NaN</td>\n",
       "      <td>- The message is a Twitter post and does not ...</td>\n",
       "      <td>0</td>\n",
       "      <td>1</td>\n",
       "      <td>Plausibility: It is not believable that the i...</td>\n",
       "      <td>0</td>\n",
       "      <td>1</td>\n",
       "    </tr>\n",
       "    <tr>\n",
       "      <th>7</th>\n",
       "      <td>Hilarious if 4chan solves this bombing case. T...</td>\n",
       "      <td>0</td>\n",
       "      <td>boston_fake_26</td>\n",
       "      <td>324435205433724929</td>\n",
       "      <td>NaN</td>\n",
       "      <td>- The message is a joke about a bombing case,...</td>\n",
       "      <td>0</td>\n",
       "      <td>1</td>\n",
       "      <td>Plausibility: The message is a link to a 4cha...</td>\n",
       "      <td>0</td>\n",
       "      <td>1</td>\n",
       "    </tr>\n",
       "    <tr>\n",
       "      <th>8</th>\n",
       "      <td>http://t.co/pS4KetWGaW #4chan</td>\n",
       "      <td>0</td>\n",
       "      <td>boston_fake_01</td>\n",
       "      <td>324545148908363777</td>\n",
       "      <td>NaN</td>\n",
       "      <td>1. The message contains a link to a website c...</td>\n",
       "      <td>0</td>\n",
       "      <td>1</td>\n",
       "      <td>Plausibility: The message is a link to a webs...</td>\n",
       "      <td>0</td>\n",
       "      <td>1</td>\n",
       "    </tr>\n",
       "    <tr>\n",
       "      <th>9</th>\n",
       "      <td>\\\"They say\\\" this is a #pic of a man lurking o...</td>\n",
       "      <td>0</td>\n",
       "      <td>boston_fake_09</td>\n",
       "      <td>324267996044460035</td>\n",
       "      <td>NaN</td>\n",
       "      <td>- The message includes a hashtag and a URL, w...</td>\n",
       "      <td>0</td>\n",
       "      <td>1</td>\n",
       "      <td>Plausibility: The idea of a man lurking on a ...</td>\n",
       "      <td>0</td>\n",
       "      <td>1</td>\n",
       "    </tr>\n",
       "  </tbody>\n",
       "</table>\n",
       "</div>"
      ]
     },
     "execution_count": 1,
     "metadata": {},
     "output_type": "execute_result"
    }
   ],
   "execution_count": 1
  },
  {
   "metadata": {
    "ExecuteTime": {
     "end_time": "2024-11-09T02:54:39.974532Z",
     "start_time": "2024-11-09T02:54:39.971830Z"
    }
   },
   "cell_type": "code",
   "source": [
    "print(f\"sum: {df.shape[0]}\")\n",
    "value_count = df['label'].value_counts()\n",
    "print(f\"real data: {value_count.get(1,0)}\")\n",
    "print(f\"fake data: {value_count.get(0,0)}\")"
   ],
   "id": "5a03146a31de0d59",
   "outputs": [
    {
     "name": "stdout",
     "output_type": "stream",
     "text": [
      "sum: 14195\n",
      "real data: 6432\n",
      "fake data: 7763\n"
     ]
    }
   ],
   "execution_count": 2
  },
  {
   "metadata": {
    "ExecuteTime": {
     "end_time": "2024-11-09T02:54:57.859632Z",
     "start_time": "2024-11-09T02:54:57.854786Z"
    }
   },
   "cell_type": "code",
   "source": [
    "def filter_data(df):\n",
    "    for r_name in rationale_names:\n",
    "        df = df[ (df[f'{r_name}_pred'] != -1) & (df[f'{r_name}_rationale'] is not None) ]\n",
    "    return df\n",
    "        \n",
    "print(f\"before filtering : {df.shape[0]}  real data :{(df['label']==1).sum()} fake data: {(df['label']==0).sum()}\")\n",
    "df = filter_data(df)\n",
    "print(f\"after filtering : {df.shape[0]}  real data :{(df['label']==1).sum()} fake data: {(df['label']==0).sum()}\")\n"
   ],
   "id": "40431c75e8f3cd3b",
   "outputs": [
    {
     "name": "stdout",
     "output_type": "stream",
     "text": [
      "before filtering : 14195  real data :6432 fake data: 7763\n",
      "after filtering : 14195  real data :6432 fake data: 7763\n"
     ]
    }
   ],
   "execution_count": 3
  },
  {
   "metadata": {
    "ExecuteTime": {
     "end_time": "2024-11-09T02:55:12.047871Z",
     "start_time": "2024-11-09T02:55:11.854716Z"
    }
   },
   "cell_type": "code",
   "source": [
    "from sklearn.metrics import f1_score, precision_score, recall_score, confusion_matrix, accuracy_score\n",
    "\n",
    "for r_name in rationale_names:\n",
    "    pred = df[r_name+ \"_pred\"].tolist()\n",
    "    label = df['label'].tolist()\n",
    "    print(f\"{r_name}: acc {accuracy_score(label, pred)} recall_real: {recall_score(label, pred)} recall_fake: {recall_score(label, pred,pos_label=0)} precision_real: {precision_score(label, pred)} precision_fake: {precision_score(label, pred,pos_label=0)}\")\n",
    "    "
   ],
   "id": "e0f743ffe5126a01",
   "outputs": [
    {
     "name": "stdout",
     "output_type": "stream",
     "text": [
      "td: acc 0.578513561113068 recall_real: 0.3787313432835821 recall_fake: 0.7440422517068144 precision_real: 0.5507574044765996 precision_fake: 0.5910765452312731\n",
      "cs: acc 0.5692145121521662 recall_real: 0.4528917910447761 recall_fake: 0.6655931985057323 precision_real: 0.5287711018333636 precision_fake: 0.5948653004835367\n"
     ]
    }
   ],
   "execution_count": 4
  },
  {
   "metadata": {
    "ExecuteTime": {
     "end_time": "2024-11-09T02:56:12.043355Z",
     "start_time": "2024-11-09T02:56:12.035194Z"
    }
   },
   "cell_type": "code",
   "source": [
    "def split_data0(df,train_ratio=0.8,valid_ratio=0.1):\n",
    "    train_nums = int(df.shape[0]*train_ratio)\n",
    "    valid_nums = int(df.shape[0]*valid_ratio)\n",
    "    return df.iloc[:train_nums],df.iloc[train_nums:train_nums+valid_nums],df.iloc[train_nums+valid_nums:]\n",
    "\n",
    "def split_data(df,train_ratio=0.8,valid_ratio=0.1):\n",
    "    real_data = df[df['label'] == 1]\n",
    "    fake_data = df[df['label'] == 0]\n",
    "    print(f\"real_data count : {real_data.shape[0]}\")\n",
    "    print(f\"fake_data count : {fake_data.shape[0]}\")\n",
    "    train_real,valid_real,test_real = split_data0(real_data,train_ratio,valid_ratio)\n",
    "    train_fake,valid_fake,test_fake = split_data0(fake_data,train_ratio,valid_ratio)\n",
    "    train_df,valid_df,test_df = pd.concat([train_real,train_fake]),pd.concat([valid_real,valid_fake]),pd.concat([test_real,test_fake])\n",
    "    train_df['split'] = 'train'\n",
    "    valid_df['split'] = 'valid'\n",
    "    test_df['split'] = 'test'\n",
    "    return train_df,valid_df,test_df\n",
    "\n",
    "\n",
    "train_df,valid_df,test_df = split_data(df,train_ratio=0.8,valid_ratio=0.1)\n",
    "\n",
    "\n",
    "train_df.shape[0],valid_df.shape[0],test_df.shape[0]"
   ],
   "id": "83ed77bcebc82db8",
   "outputs": [
    {
     "name": "stdout",
     "output_type": "stream",
     "text": [
      "real_data count : 6432\n",
      "fake_data count : 7763\n"
     ]
    },
    {
     "data": {
      "text/plain": [
       "(11355, 1419, 1421)"
      ]
     },
     "execution_count": 5,
     "metadata": {},
     "output_type": "execute_result"
    }
   ],
   "execution_count": 5
  },
  {
   "metadata": {
    "ExecuteTime": {
     "end_time": "2024-11-09T02:56:25.179951Z",
     "start_time": "2024-11-09T02:56:25.066889Z"
    }
   },
   "cell_type": "code",
   "source": [
    "train_df.to_csv('train.csv',index=False)\n",
    "valid_df.to_csv('val.csv',index=False)\n",
    "test_df.to_csv('test.csv',index=False)"
   ],
   "id": "f5228f02500ce059",
   "outputs": [],
   "execution_count": 6
  }
 ],
 "metadata": {
  "kernelspec": {
   "display_name": "Python 3",
   "language": "python",
   "name": "python3"
  },
  "language_info": {
   "codemirror_mode": {
    "name": "ipython",
    "version": 2
   },
   "file_extension": ".py",
   "mimetype": "text/x-python",
   "name": "python",
   "nbconvert_exporter": "python",
   "pygments_lexer": "ipython2",
   "version": "2.7.6"
  }
 },
 "nbformat": 4,
 "nbformat_minor": 5
}
