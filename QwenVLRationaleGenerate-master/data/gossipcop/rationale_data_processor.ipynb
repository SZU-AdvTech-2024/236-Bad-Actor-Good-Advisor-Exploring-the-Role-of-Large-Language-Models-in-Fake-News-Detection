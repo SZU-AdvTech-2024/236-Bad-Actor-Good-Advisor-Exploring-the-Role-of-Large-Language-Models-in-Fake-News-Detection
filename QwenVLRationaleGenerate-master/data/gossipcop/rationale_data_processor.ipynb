{
 "cells": [
  {
   "metadata": {
    "collapsed": true,
    "ExecuteTime": {
     "end_time": "2024-11-08T12:45:09.975117Z",
     "start_time": "2024-11-08T12:45:09.746189Z"
    }
   },
   "cell_type": "code",
   "source": [
    "import os\n",
    "import pandas as pd\n",
    "df = pd.read_csv('gossipcop_llm_rationales.csv')\n",
    "current_path = os.getcwd()\n",
    "print(current_path)\n",
    "rationale_names = {'td','cs'}\n",
    "df[:10]"
   ],
   "id": "initial_id",
   "outputs": [
    {
     "name": "stdout",
     "output_type": "stream",
     "text": [
      "/home/lyq/PycharmProjects/PycharmProjects\n"
     ]
    },
    {
     "data": {
      "text/plain": [
       "                                             content  label  \\\n",
       "0  Congratulations might be in order for Miley Cy...      0   \n",
       "1  Thousands are taking the streets to protest Pr...      0   \n",
       "2  We'd venture to say that Cindy Crawford's daug...      0   \n",
       "3  During the summer of 1995, John F. Kennedy Jr....      0   \n",
       "4  Many stars saw great success in 2016, but the ...      0   \n",
       "5  Caitlyn Jenner is trying to keep her romantic ...      0   \n",
       "6  So while the internet is busy obsessing over J...      0   \n",
       "7  Next stop on the 2018 award season train? The ...      0   \n",
       "8  Angelina Jolie, 43, “really hasn’t come to ter...      0   \n",
       "9  We should not be content to pass health care l...      0   \n",
       "\n",
       "               image_id             source_id  split  \\\n",
       "0  gossipcop-2493749932  gossipcop-2493749932    NaN   \n",
       "1   gossipcop-941805037   gossipcop-941805037    NaN   \n",
       "2  gossipcop-2547891536  gossipcop-2547891536    NaN   \n",
       "3  gossipcop-5189580095  gossipcop-5189580095    NaN   \n",
       "4  gossipcop-9588339534  gossipcop-9588339534    NaN   \n",
       "5  gossipcop-8753274298  gossipcop-8753274298    NaN   \n",
       "6  gossipcop-9878194459  gossipcop-9878194459    NaN   \n",
       "7  gossipcop-9521617242  gossipcop-9521617242    NaN   \n",
       "8  gossipcop-2210288941  gossipcop-2210288941    NaN   \n",
       "9  gossipcop-3783917182  gossipcop-3783917182    NaN   \n",
       "\n",
       "                                        td_rationale  td_pred  td_acc  \\\n",
       "0   1. Source: The message is from a reputable so...        1       0   \n",
       "1   - The message is about a protest against Pres...        1       0   \n",
       "2   - The message includes specific details about...        0       1   \n",
       "3   - The message is a fictional story about a me...        0       1   \n",
       "4   - The message contains a list of specific cel...        1       0   \n",
       "5   1. Source: The news article is from Variety, ...        1       0   \n",
       "6   - The message contains specific details about...        1       0   \n",
       "7   - Source: The message is from a news website ...        1       0   \n",
       "8   1. Source credibility: The source, HollywoodL...        1       0   \n",
       "9   1. Source: The message is from Senator Susan ...        1       0   \n",
       "\n",
       "                                        cs_rationale  cs_pred  cs_acc  \n",
       "0   Plausibility: It is plausible that Miley Cyru...        1       0  \n",
       "1   Plausibility: It is plausible that people wou...        1       0  \n",
       "2   Plausibility: The message seems plausible as ...        1       0  \n",
       "3   Plausibility: The description of the meeting ...        1       0  \n",
       "4   Plausibility: The events and controversies li...        1       0  \n",
       "5   Plausibility: The message seems plausible as ...        1       0  \n",
       "6   Plausibility: The information provided seems ...        1       0  \n",
       "7   Plausibility: The message seems plausible as ...        1       0  \n",
       "8   Plausibility: It is plausible that Angelina J...        1       0  \n",
       "9   Plausibility: The message is a political stat...        1       0  "
      ],
      "text/html": [
       "<div>\n",
       "<style scoped>\n",
       "    .dataframe tbody tr th:only-of-type {\n",
       "        vertical-align: middle;\n",
       "    }\n",
       "\n",
       "    .dataframe tbody tr th {\n",
       "        vertical-align: top;\n",
       "    }\n",
       "\n",
       "    .dataframe thead th {\n",
       "        text-align: right;\n",
       "    }\n",
       "</style>\n",
       "<table border=\"1\" class=\"dataframe\">\n",
       "  <thead>\n",
       "    <tr style=\"text-align: right;\">\n",
       "      <th></th>\n",
       "      <th>content</th>\n",
       "      <th>label</th>\n",
       "      <th>image_id</th>\n",
       "      <th>source_id</th>\n",
       "      <th>split</th>\n",
       "      <th>td_rationale</th>\n",
       "      <th>td_pred</th>\n",
       "      <th>td_acc</th>\n",
       "      <th>cs_rationale</th>\n",
       "      <th>cs_pred</th>\n",
       "      <th>cs_acc</th>\n",
       "    </tr>\n",
       "  </thead>\n",
       "  <tbody>\n",
       "    <tr>\n",
       "      <th>0</th>\n",
       "      <td>Congratulations might be in order for Miley Cy...</td>\n",
       "      <td>0</td>\n",
       "      <td>gossipcop-2493749932</td>\n",
       "      <td>gossipcop-2493749932</td>\n",
       "      <td>NaN</td>\n",
       "      <td>1. Source: The message is from a reputable so...</td>\n",
       "      <td>1</td>\n",
       "      <td>0</td>\n",
       "      <td>Plausibility: It is plausible that Miley Cyru...</td>\n",
       "      <td>1</td>\n",
       "      <td>0</td>\n",
       "    </tr>\n",
       "    <tr>\n",
       "      <th>1</th>\n",
       "      <td>Thousands are taking the streets to protest Pr...</td>\n",
       "      <td>0</td>\n",
       "      <td>gossipcop-941805037</td>\n",
       "      <td>gossipcop-941805037</td>\n",
       "      <td>NaN</td>\n",
       "      <td>- The message is about a protest against Pres...</td>\n",
       "      <td>1</td>\n",
       "      <td>0</td>\n",
       "      <td>Plausibility: It is plausible that people wou...</td>\n",
       "      <td>1</td>\n",
       "      <td>0</td>\n",
       "    </tr>\n",
       "    <tr>\n",
       "      <th>2</th>\n",
       "      <td>We'd venture to say that Cindy Crawford's daug...</td>\n",
       "      <td>0</td>\n",
       "      <td>gossipcop-2547891536</td>\n",
       "      <td>gossipcop-2547891536</td>\n",
       "      <td>NaN</td>\n",
       "      <td>- The message includes specific details about...</td>\n",
       "      <td>0</td>\n",
       "      <td>1</td>\n",
       "      <td>Plausibility: The message seems plausible as ...</td>\n",
       "      <td>1</td>\n",
       "      <td>0</td>\n",
       "    </tr>\n",
       "    <tr>\n",
       "      <th>3</th>\n",
       "      <td>During the summer of 1995, John F. Kennedy Jr....</td>\n",
       "      <td>0</td>\n",
       "      <td>gossipcop-5189580095</td>\n",
       "      <td>gossipcop-5189580095</td>\n",
       "      <td>NaN</td>\n",
       "      <td>- The message is a fictional story about a me...</td>\n",
       "      <td>0</td>\n",
       "      <td>1</td>\n",
       "      <td>Plausibility: The description of the meeting ...</td>\n",
       "      <td>1</td>\n",
       "      <td>0</td>\n",
       "    </tr>\n",
       "    <tr>\n",
       "      <th>4</th>\n",
       "      <td>Many stars saw great success in 2016, but the ...</td>\n",
       "      <td>0</td>\n",
       "      <td>gossipcop-9588339534</td>\n",
       "      <td>gossipcop-9588339534</td>\n",
       "      <td>NaN</td>\n",
       "      <td>- The message contains a list of specific cel...</td>\n",
       "      <td>1</td>\n",
       "      <td>0</td>\n",
       "      <td>Plausibility: The events and controversies li...</td>\n",
       "      <td>1</td>\n",
       "      <td>0</td>\n",
       "    </tr>\n",
       "    <tr>\n",
       "      <th>5</th>\n",
       "      <td>Caitlyn Jenner is trying to keep her romantic ...</td>\n",
       "      <td>0</td>\n",
       "      <td>gossipcop-8753274298</td>\n",
       "      <td>gossipcop-8753274298</td>\n",
       "      <td>NaN</td>\n",
       "      <td>1. Source: The news article is from Variety, ...</td>\n",
       "      <td>1</td>\n",
       "      <td>0</td>\n",
       "      <td>Plausibility: The message seems plausible as ...</td>\n",
       "      <td>1</td>\n",
       "      <td>0</td>\n",
       "    </tr>\n",
       "    <tr>\n",
       "      <th>6</th>\n",
       "      <td>So while the internet is busy obsessing over J...</td>\n",
       "      <td>0</td>\n",
       "      <td>gossipcop-9878194459</td>\n",
       "      <td>gossipcop-9878194459</td>\n",
       "      <td>NaN</td>\n",
       "      <td>- The message contains specific details about...</td>\n",
       "      <td>1</td>\n",
       "      <td>0</td>\n",
       "      <td>Plausibility: The information provided seems ...</td>\n",
       "      <td>1</td>\n",
       "      <td>0</td>\n",
       "    </tr>\n",
       "    <tr>\n",
       "      <th>7</th>\n",
       "      <td>Next stop on the 2018 award season train? The ...</td>\n",
       "      <td>0</td>\n",
       "      <td>gossipcop-9521617242</td>\n",
       "      <td>gossipcop-9521617242</td>\n",
       "      <td>NaN</td>\n",
       "      <td>- Source: The message is from a news website ...</td>\n",
       "      <td>1</td>\n",
       "      <td>0</td>\n",
       "      <td>Plausibility: The message seems plausible as ...</td>\n",
       "      <td>1</td>\n",
       "      <td>0</td>\n",
       "    </tr>\n",
       "    <tr>\n",
       "      <th>8</th>\n",
       "      <td>Angelina Jolie, 43, “really hasn’t come to ter...</td>\n",
       "      <td>0</td>\n",
       "      <td>gossipcop-2210288941</td>\n",
       "      <td>gossipcop-2210288941</td>\n",
       "      <td>NaN</td>\n",
       "      <td>1. Source credibility: The source, HollywoodL...</td>\n",
       "      <td>1</td>\n",
       "      <td>0</td>\n",
       "      <td>Plausibility: It is plausible that Angelina J...</td>\n",
       "      <td>1</td>\n",
       "      <td>0</td>\n",
       "    </tr>\n",
       "    <tr>\n",
       "      <th>9</th>\n",
       "      <td>We should not be content to pass health care l...</td>\n",
       "      <td>0</td>\n",
       "      <td>gossipcop-3783917182</td>\n",
       "      <td>gossipcop-3783917182</td>\n",
       "      <td>NaN</td>\n",
       "      <td>1. Source: The message is from Senator Susan ...</td>\n",
       "      <td>1</td>\n",
       "      <td>0</td>\n",
       "      <td>Plausibility: The message is a political stat...</td>\n",
       "      <td>1</td>\n",
       "      <td>0</td>\n",
       "    </tr>\n",
       "  </tbody>\n",
       "</table>\n",
       "</div>"
      ]
     },
     "execution_count": 18,
     "metadata": {},
     "output_type": "execute_result"
    }
   ],
   "execution_count": 18
  },
  {
   "metadata": {
    "ExecuteTime": {
     "end_time": "2024-11-08T12:45:10.049406Z",
     "start_time": "2024-11-08T12:45:10.047354Z"
    }
   },
   "cell_type": "code",
   "source": [
    "print(f\"sum: {df.shape[0]}\")\n",
    "value_count = df['label'].value_counts()\n",
    "print(f\"real data: {value_count.get(1,0)}\")\n",
    "print(f\"fake data: {value_count.get(0,0)}\")"
   ],
   "id": "5a03146a31de0d59",
   "outputs": [
    {
     "name": "stdout",
     "output_type": "stream",
     "text": [
      "sum: 12332\n",
      "real data: 9616\n",
      "fake data: 2716\n"
     ]
    }
   ],
   "execution_count": 19
  },
  {
   "metadata": {
    "ExecuteTime": {
     "end_time": "2024-11-08T12:45:10.151308Z",
     "start_time": "2024-11-08T12:45:10.143847Z"
    }
   },
   "cell_type": "code",
   "source": [
    "def filter_data(df):\n",
    "    for r_name in rationale_names:\n",
    "        df = df[ (df[f'{r_name}_pred'] != -1) & (df[f'{r_name}_rationale'] is not None) ]\n",
    "    return df\n",
    "        \n",
    "print(f\"before filtering : {df.shape[0]}  real data :{(df['label']==1).sum()} fake data: {(df['label']==0).sum()}\")\n",
    "df = filter_data(df)\n",
    "print(f\"after filtering : {df.shape[0]}  real data :{(df['label']==1).sum()} fake data: {(df['label']==0).sum()}\")\n"
   ],
   "id": "40431c75e8f3cd3b",
   "outputs": [
    {
     "name": "stdout",
     "output_type": "stream",
     "text": [
      "before filtering : 12332  real data :9616 fake data: 2716\n",
      "after filtering : 12332  real data :9616 fake data: 2716\n"
     ]
    }
   ],
   "execution_count": 20
  },
  {
   "metadata": {
    "ExecuteTime": {
     "end_time": "2024-11-08T12:45:10.256775Z",
     "start_time": "2024-11-08T12:45:10.214364Z"
    }
   },
   "cell_type": "code",
   "source": [
    "from sklearn.metrics import f1_score, precision_score, recall_score, confusion_matrix, accuracy_score\n",
    "\n",
    "for r_name in rationale_names:\n",
    "    pred = df[r_name+ \"_pred\"].tolist()\n",
    "    label = df['label'].tolist()\n",
    "    print(f\"{r_name}: acc {accuracy_score(label, pred)} recall_real: {recall_score(label, pred)} recall_fake: {recall_score(label, pred,pos_label=0)} precision_real: {precision_score(label, pred)} precision_fake: {precision_score(label, pred,pos_label=0)}\")\n",
    "    "
   ],
   "id": "e0f743ffe5126a01",
   "outputs": [
    {
     "name": "stdout",
     "output_type": "stream",
     "text": [
      "td: acc 0.7814628608498216 recall_real: 0.9499792013311148 recall_fake: 0.18483063328424154 precision_real: 0.8049167327517843 precision_fake: 0.5106815869786369\n",
      "cs: acc 0.7851929938371716 recall_real: 0.9595465890183028 recall_fake: 0.16789396170839468 precision_real: 0.8032558544441543 precision_fake: 0.5396449704142012\n"
     ]
    }
   ],
   "execution_count": 21
  },
  {
   "metadata": {
    "ExecuteTime": {
     "end_time": "2024-11-08T12:45:10.277480Z",
     "start_time": "2024-11-08T12:45:10.267739Z"
    }
   },
   "cell_type": "code",
   "source": [
    "def split_data0(df,train_ratio=0.8,valid_ratio=0.1):\n",
    "    train_nums = int(df.shape[0]*train_ratio)\n",
    "    valid_nums = int(df.shape[0]*valid_ratio)\n",
    "    return df.iloc[:train_nums],df.iloc[train_nums:train_nums+valid_nums],df.iloc[train_nums+valid_nums:]\n",
    "\n",
    "def split_data(df,train_ratio=0.8,valid_ratio=0.1):\n",
    "    real_data = df[df['label'] == 1]\n",
    "    fake_data = df[df['label'] == 0]\n",
    "    print(f\"real_data count : {real_data.shape[0]}\")\n",
    "    print(f\"fake_data count : {fake_data.shape[0]}\")\n",
    "    train_real,valid_real,test_real = split_data0(real_data,train_ratio,valid_ratio)\n",
    "    train_fake,valid_fake,test_fake = split_data0(fake_data,train_ratio,valid_ratio)\n",
    "    train_df,valid_df,test_df = pd.concat([train_real,train_fake]),pd.concat([valid_real,valid_fake]),pd.concat([test_real,test_fake])\n",
    "    train_df['split'] = 'train'\n",
    "    valid_df['split'] = 'val'\n",
    "    test_df['split'] = 'test'\n",
    "    return train_df,valid_df,test_df\n",
    "\n",
    "\n",
    "train_df,valid_df,test_df = split_data(df,train_ratio=0.8,valid_ratio=0.1)\n",
    "\n",
    "\n",
    "train_df.shape[0],valid_df.shape[0],test_df.shape[0]"
   ],
   "id": "83ed77bcebc82db8",
   "outputs": [
    {
     "name": "stdout",
     "output_type": "stream",
     "text": [
      "real_data count : 9616\n",
      "fake_data count : 2716\n"
     ]
    },
    {
     "data": {
      "text/plain": [
       "(9864, 1232, 1236)"
      ]
     },
     "execution_count": 22,
     "metadata": {},
     "output_type": "execute_result"
    }
   ],
   "execution_count": 22
  },
  {
   "metadata": {
    "ExecuteTime": {
     "end_time": "2024-11-08T12:45:10.751805Z",
     "start_time": "2024-11-08T12:45:10.325521Z"
    }
   },
   "cell_type": "code",
   "source": [
    "train_df.to_csv('train.csv',index=False)\n",
    "valid_df.to_csv('val.csv',index=False)\n",
    "test_df.to_csv('test.csv',index=False)"
   ],
   "id": "f5228f02500ce059",
   "outputs": [],
   "execution_count": 23
  }
 ],
 "metadata": {
  "kernelspec": {
   "display_name": "Python 3",
   "language": "python",
   "name": "python3"
  },
  "language_info": {
   "codemirror_mode": {
    "name": "ipython",
    "version": 2
   },
   "file_extension": ".py",
   "mimetype": "text/x-python",
   "name": "python",
   "nbconvert_exporter": "python",
   "pygments_lexer": "ipython2",
   "version": "2.7.6"
  }
 },
 "nbformat": 4,
 "nbformat_minor": 5
}
